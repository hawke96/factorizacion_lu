{
 "cells": [
  {
   "cell_type": "code",
   "execution_count": 2,
   "metadata": {
    "collapsed": true
   },
   "outputs": [],
   "source": [
    "import numpy as np # Importa el módulo Numpy\n",
    "                   # Estructuras de datos multidimensionales (arrays)\n",
    "                   # Operaciones vectorizadas"
   ]
  },
  {
   "cell_type": "markdown",
   "metadata": {},
   "source": [
    "#Ejemplos métodos directos de resolución de sistemas de ecuaciones lineales: Factorización LU"
   ]
  },
  {
   "cell_type": "markdown",
   "metadata": {},
   "source": [
    "##1 Sistemas de ecuaciones lineales"
   ]
  },
  {
   "cell_type": "markdown",
   "metadata": {},
   "source": [
    "##1.1 Métodos directos"
   ]
  },
  {
   "cell_type": "markdown",
   "metadata": {},
   "source": [
    "###1.1.1 Método de eliminación gaussiana"
   ]
  },
  {
   "cell_type": "markdown",
   "metadata": {},
   "source": [
    "Implementación del __método de eliminación gaussiana__:"
   ]
  },
  {
   "cell_type": "markdown",
   "metadata": {},
   "source": [
    "* __Fase de eliminación__"
   ]
  },
  {
   "cell_type": "code",
   "execution_count": 3,
   "metadata": {
    "collapsed": true
   },
   "outputs": [],
   "source": [
    "def eliminacion_gaussiana(A, b):\n",
    "    \"\"\"\n",
    "    * Toma:\n",
    "    A --> matriz de coeficientes\n",
    "    b --> matriz de términos independientes\n",
    "    \n",
    "    * Devuelve:\n",
    "    A y b tras aplicar la eliminación\n",
    "    \n",
    "    Las matrices se introducen bajo la estructura de numpy.array, de esta manera se optimiza el cálculo\n",
    "    vectorizando las operaciones.\n",
    "    \n",
    "    La rutina pretende ilustrar la implementación en Python del método de eliminación gaussiana.\n",
    "    \"\"\"\n",
    "    \n",
    "    \n",
    "    A = A.astype(float) # Los coeficientes de las matrices pasan a expresarse como float\n",
    "    b = b.astype(float) # Los coeficientes de las matrices pasan a expresarse como float\n",
    "    \n",
    "    n = A.shape[0] # n es el número de filas de A (número de ecuaciones)\n",
    "    \n",
    "    \n",
    "    # __ELIMINACIÓN GAUSIANA__    Ax=b --> Ux=c\n",
    "    # Para las entradas que esten:\n",
    "    # * En todas las columnas menos la última\n",
    "    for j in range(0,n-1):\n",
    "        # * En cada fila con índice superior al de la columna\n",
    "        for i in range(j+1,n):\n",
    "            # Si la entrada no es nula\n",
    "            if A[i,j] != 0.0:\n",
    "                # Multiplicador, A[j,j] es el pivote, A[i, j] el término\n",
    "                mult = A[i,j]/A[j,j]\n",
    "                # A toda la fila de la entrada le restamos la fila superior por el multiplicador\n",
    "                A[i,:] = A[i,:] - mult*A[j,:]                                     \n",
    "                b[i] = b[i] - mult*b[j]\n",
    "    \n",
    "    # Devuelve\n",
    "    return A, b "
   ]
  },
  {
   "cell_type": "code",
   "execution_count": 4,
   "metadata": {
    "collapsed": false
   },
   "outputs": [
    {
     "data": {
      "text/plain": [
       "array([[ 4, -2,  1],\n",
       "       [-2,  4, -2],\n",
       "       [ 1, -2,  4]])"
      ]
     },
     "execution_count": 4,
     "metadata": {},
     "output_type": "execute_result"
    }
   ],
   "source": [
    "# Matriz de coeficientes\n",
    "\n",
    "A = np.array([[4,-2,1],[-2,4,-2],[1,-2,4]])\n",
    "A"
   ]
  },
  {
   "cell_type": "code",
   "execution_count": 5,
   "metadata": {
    "collapsed": false
   },
   "outputs": [
    {
     "data": {
      "text/plain": [
       "array([[ 11],\n",
       "       [-16],\n",
       "       [ 17]])"
      ]
     },
     "execution_count": 5,
     "metadata": {},
     "output_type": "execute_result"
    }
   ],
   "source": [
    "# Matriz de términos independientes\n",
    "\n",
    "b = np.array([[11],[-16],[17]])\n",
    "b"
   ]
  },
  {
   "cell_type": "code",
   "execution_count": 6,
   "metadata": {
    "collapsed": false
   },
   "outputs": [
    {
     "name": "stdout",
     "output_type": "stream",
     "text": [
      "A:\n",
      "\n",
      "[[ 4.  -2.   1. ]\n",
      " [ 0.   3.  -1.5]\n",
      " [ 0.   0.   3. ]] \n",
      "\n",
      "\n",
      "b:\n",
      "\n",
      "[[ 11. ]\n",
      " [-10.5]\n",
      " [  9. ]]\n"
     ]
    }
   ],
   "source": [
    "A, b = eliminacion_gaussiana(A, b)\n",
    "\n",
    "print \"A:\\n\\n\", A, \"\\n\\n\"\n",
    "print \"b:\\n\\n\", b"
   ]
  },
  {
   "cell_type": "markdown",
   "metadata": {},
   "source": [
    "* __Sustitución regresiva__"
   ]
  },
  {
   "cell_type": "markdown",
   "metadata": {},
   "source": [
    "Una vez se ha realizado la fase de eliminación, es necesario aplicar la __sustitución regresiva__ para completar el método."
   ]
  },
  {
   "cell_type": "code",
   "execution_count": 9,
   "metadata": {
    "collapsed": true
   },
   "outputs": [],
   "source": [
    "def sustitucion_regresiva(A, b):\n",
    "    \"\"\"\n",
    "    * Toma:\n",
    "    A --> matriz de coeficientes escalonada\n",
    "    b --> matriz de términos independientes escalonada\n",
    "    \n",
    "    * Devuelve:\n",
    "    b --> vector X de las soluciones (Ax=b)\n",
    "    \n",
    "    Las matrices se introducen bajo la estructura de numpy.array, de esta manera se optimiza el cálculo\n",
    "    vectorizando las operaciones.\n",
    "    \n",
    "    La rutina pretende ilustrar la implementación en Python del método de sustitución regresiva.\n",
    "    \"\"\"\n",
    "    \n",
    "    A = A.astype(float) # Los coeficientes de las matrices pasan a expresarse como float\n",
    "    b = b.astype(float) # Los coeficientes de las matrices pasan a expresarse como float\n",
    "    \n",
    "    n = A.shape[0] # n es el número de filas de A (número de ecuaciones)\n",
    "    \n",
    "    \n",
    "    # SUSTUCIÓN REGRESIVA        \n",
    "    # Desde la última fila hasta la primera\n",
    "    for j in range(n-1,-1,-1):\n",
    "        b[j] = (b[j]-np.dot(A[j, j+1:], b[j+1:]))/A[j,j]\n",
    "        \n",
    "    return b"
   ]
  },
  {
   "cell_type": "code",
   "execution_count": 10,
   "metadata": {
    "collapsed": false
   },
   "outputs": [
    {
     "name": "stdout",
     "output_type": "stream",
     "text": [
      "X:\n",
      "\n",
      "[[ 1.]\n",
      " [-2.]\n",
      " [ 3.]]\n"
     ]
    }
   ],
   "source": [
    "# Solución tras aplicar la sustitución regresiva al sistema escalonado\n",
    "\n",
    "X = sustitucion_regresiva(A, b)\n",
    "\n",
    "print \"X:\\n\\n\", X"
   ]
  },
  {
   "cell_type": "markdown",
   "metadata": {},
   "source": [
    "Completaremos con el código completo para la resolución de sistemas de ecuaciones lineales mediante la eliminación gaussiana."
   ]
  },
  {
   "cell_type": "code",
   "execution_count": 11,
   "metadata": {
    "collapsed": true
   },
   "outputs": [],
   "source": [
    "def eliminacion_gaussiana_back(A, b):\n",
    "    \"\"\"\n",
    "    * Toma:\n",
    "    A --> matriz de coeficientes\n",
    "    b --> matriz de términos independientes\n",
    "    \n",
    "    * Devuelve:\n",
    "    X --> Solución\n",
    "    \n",
    "    Las matrices se introducen bajo la estructura de numpy.array, de esta manera se optimiza el cálculo\n",
    "    vectorizando las operaciones.\n",
    "    \n",
    "    La rutina pretende ilustrar la implementación en Python del método de eliminación gaussiana.\n",
    "    \"\"\"\n",
    "    \n",
    "    A = A.astype(float)\n",
    "    b = b.astype(float) \n",
    "    \n",
    "    n = A.shape[0] # n es el número de filas de A (ecuaciones)\n",
    "    \n",
    "    \n",
    "    # ELIMINACIÓN GAUSIANA Ax=b --> Ux=c\n",
    "    # Para las entradas que esten:\n",
    "    # * En todas las columnas menos la última\n",
    "    for j in range(0,n-1):\n",
    "        # * En cada fila con índice superior al de la columna\n",
    "        for i in range(j+1,n):\n",
    "            # Si la entrada no es nula\n",
    "            if A[i,j] != 0.0:\n",
    "                # Multiplicador, A[j,j] es el pivote, A[i, j] el término\n",
    "                mult = A[i,j]/A[j,j]\n",
    "                # A toda la fila de la entrada le restamos la fila superior por el multiplicador\n",
    "                A[i,:] = A[i,:] - mult*A[j,:]                                     \n",
    "                b[i] = b[i] - mult*b[j]\n",
    "               \n",
    "            \n",
    "    # SUSTUCIÓN REGRESIVA        \n",
    "    X = sustitucion_regresiva(A, b)\n",
    " \n",
    "    return X"
   ]
  },
  {
   "cell_type": "markdown",
   "metadata": {},
   "source": [
    "__Ejemplo__"
   ]
  },
  {
   "cell_type": "markdown",
   "metadata": {},
   "source": [
    "Podemos resolver un sistema un poco más grande para ver cómo funciona nuestro código."
   ]
  },
  {
   "cell_type": "code",
   "execution_count": 12,
   "metadata": {
    "collapsed": false
   },
   "outputs": [
    {
     "data": {
      "text/plain": [
       "array([[ 5,  4, -1,  2, -9],\n",
       "       [ 4,  3, -5, -5,  4],\n",
       "       [ 6, -6, -3, -9,  4],\n",
       "       [-8,  8,  5, -3, -6],\n",
       "       [-3, -7,  2, -5,  4]])"
      ]
     },
     "execution_count": 12,
     "metadata": {},
     "output_type": "execute_result"
    }
   ],
   "source": [
    "# Matriz de términos independientes\n",
    "\n",
    "A = np.array([[5,4,-1,2,-9],[4,3,-5,-5,4],[6,-6,-3,-9,4],[-8,8,5,-3,-6],[-3,-7,2,-5,4]])\n",
    "A"
   ]
  },
  {
   "cell_type": "code",
   "execution_count": 13,
   "metadata": {
    "collapsed": false
   },
   "outputs": [
    {
     "data": {
      "text/plain": [
       "array([[  29],\n",
       "       [ -65],\n",
       "       [-113],\n",
       "       [  35],\n",
       "       [ -50]])"
      ]
     },
     "execution_count": 13,
     "metadata": {},
     "output_type": "execute_result"
    }
   ],
   "source": [
    "# Matriz de coeficientes\n",
    "\n",
    "b = np.array([[29],[-65],[-113],[35],[-50]])\n",
    "b"
   ]
  },
  {
   "cell_type": "code",
   "execution_count": 14,
   "metadata": {
    "collapsed": false
   },
   "outputs": [
    {
     "data": {
      "text/plain": [
       "array([[-2.],\n",
       "       [ 2.],\n",
       "       [ 3.],\n",
       "       [ 8.],\n",
       "       [-2.]])"
      ]
     },
     "execution_count": 14,
     "metadata": {},
     "output_type": "execute_result"
    }
   ],
   "source": [
    "# Solución\n",
    "\n",
    "X = eliminacion_gaussiana_back(A, b)\n",
    "X"
   ]
  },
  {
   "cell_type": "markdown",
   "metadata": {},
   "source": [
    "Podemos terminar comrobando si hemos llegado a la solución correcta."
   ]
  },
  {
   "cell_type": "code",
   "execution_count": 16,
   "metadata": {
    "collapsed": false
   },
   "outputs": [
    {
     "data": {
      "text/plain": [
       "array([[ True],\n",
       "       [ True],\n",
       "       [ True],\n",
       "       [False],\n",
       "       [False]], dtype=bool)"
      ]
     },
     "execution_count": 16,
     "metadata": {},
     "output_type": "execute_result"
    }
   ],
   "source": [
    "np.dot(A, X) == b"
   ]
  },
  {
   "cell_type": "markdown",
   "metadata": {},
   "source": [
    "Podemos ver que no son exactamente iguales, esto se debe al redondeo en las operaciones de coma flotante."
   ]
  },
  {
   "cell_type": "code",
   "execution_count": 17,
   "metadata": {
    "collapsed": false
   },
   "outputs": [
    {
     "data": {
      "text/plain": [
       "array([[  0.00000000e+00],\n",
       "       [  0.00000000e+00],\n",
       "       [  0.00000000e+00],\n",
       "       [ -9.37916411e-13],\n",
       "       [  4.54747351e-13]])"
      ]
     },
     "execution_count": 17,
     "metadata": {},
     "output_type": "execute_result"
    }
   ],
   "source": [
    "np.dot(A, X) - b"
   ]
  },
  {
   "cell_type": "markdown",
   "metadata": {},
   "source": [
    "##1.1.3 Sustitución progresiva"
   ]
  },
  {
   "cell_type": "code",
   "execution_count": 18,
   "metadata": {
    "collapsed": true
   },
   "outputs": [],
   "source": [
    "def sustitucion_progresiva(A, b):\n",
    "    \"\"\"\n",
    "    * Toma:\n",
    "    A --> matriz de coeficientes escalonada\n",
    "    b --> matriz de términos independientes escalonada\n",
    "    \n",
    "    * Devuelve:\n",
    "    x --> vector X de las soluciones (Ax=b)\n",
    "    \n",
    "    Las matrices se introducen bajo la estructura de numpy.array, de esta manera se optimiza el cálculo\n",
    "    vectorizando las operaciones.\n",
    "    \n",
    "    La rutina pretende ilustrar la implementación en Python del método de sustitución progresiva.\n",
    "    \"\"\"\n",
    "    \n",
    "    A = A.astype(float) # Los coeficientes de las matrices pasan a expresarse como float\n",
    "    b = b.astype(float) # Los coeficientes de las matrices pasan a expresarse como float\n",
    "    \n",
    "    n = A.shape[0] # n es el número de filas de A (ecuaciones)\n",
    "    \n",
    "    x = np.eye(n,1).astype(float) # Vector para almacenar la solución\n",
    "    \n",
    "    # SUSTUCIÓN PROGRESIVA        \n",
    "    # Desde la última fila hasta la primera\n",
    "    \n",
    "    x[0] = b[0]\n",
    "    for j in range(1,n):\n",
    "        x[j] = b[j]-np.dot(A[j,0:j], x[0:j])\n",
    "        \n",
    "    return x"
   ]
  },
  {
   "cell_type": "markdown",
   "metadata": {},
   "source": [
    "##2. Factorización $LU$"
   ]
  },
  {
   "cell_type": "markdown",
   "metadata": {},
   "source": [
    "##2.3 Descomposición de Doolittle"
   ]
  },
  {
   "cell_type": "code",
   "execution_count": 19,
   "metadata": {
    "collapsed": true
   },
   "outputs": [],
   "source": [
    "def doolittle(A, b):\n",
    "    \"\"\"\n",
    "    Implementación de la Factorización de Doolittle.\n",
    "    \n",
    "    * Toma:\n",
    "    A --> matriz de coeficientes \n",
    "    b --> matriz de términos independientes\n",
    "    \n",
    "    * Devuelve:\n",
    "    L --> triangular inferior de la factorización\n",
    "    U --> triangular superior de la factorización\n",
    "    b --> términos independientes (no los modifica)\n",
    "    x --> solución final LUx=b\n",
    "    y --> solución parcial Ly=b, Ux=y\n",
    "    \n",
    "    Las matrices se introducen bajo la estructura de numpy.array, de esta manera se optimiza el cálculo\n",
    "    vectorizando las operaciones.\n",
    "    \"\"\"\n",
    "    \n",
    "    A = A.astype(float)\n",
    "    b = b.astype(float)\n",
    "    \n",
    "    n = A.shape[0] # n es el número de filas de A (ecuaciones)\n",
    "    \n",
    "    # El algoritmo para Doolittle es el mismo que en la\n",
    "    # eliminación gaussiana, solo que almacenamos los multiplicadores\n",
    "    # en la parte inferior de la diagonal\n",
    "    \n",
    "    # Crea una matriz identidad nxn donde almacenaremos los multiplicadores  \n",
    "    L = np.eye(n,n)\n",
    "    \n",
    "    # ELIMINACIÓN GAUSIANA Ax=b --> Ux=c\n",
    "    # Para las entradas que esten:\n",
    "    # * En todas las columnas menos la última\n",
    "    for j in range(0,n-1):\n",
    "        # * En cada fila con índice superior al de la columna\n",
    "        for i in range(j+1,n):\n",
    "            # Si la entrada no es nula\n",
    "            if A[i,j] != 0.0:\n",
    "                # Multiplicador, A[j,j] es el pivote, A[i, j] el término\n",
    "                mult = A[i,j]/A[j,j]\n",
    "                # A toda la fila de la entrada le restamos la fila superior por el multiplicador\n",
    "                A[i,:] = A[i,:] - mult*A[j,:]\n",
    "                # _NO_ modificamos b\n",
    "                # Almacenamos cada multiplicador en la entrada que elimina pero en L\n",
    "                L[i,j] = mult\n",
    "\n",
    "                \n",
    "    # U es A después de escalonar\n",
    "    U = A\n",
    "    \n",
    "    # Ly=b\n",
    "    y = sustitucion_progresiva(L, b)\n",
    "    \n",
    "    # Ux=y\n",
    "    x = sustitucion_regresiva(U, y)\n",
    "    \n",
    "    return L, U, b, x, y\n",
    "    "
   ]
  },
  {
   "cell_type": "code",
   "execution_count": 20,
   "metadata": {
    "collapsed": true
   },
   "outputs": [],
   "source": [
    "A = np.array([[5,5,0,0,0],[0,5,-7,-2,0],[1,-1,-1,0,0],[0,0,0,2,-3],[0,0,1,-1,1]])\n",
    "b = np.array([[5.5],[0],[0],[0],[0]])"
   ]
  },
  {
   "cell_type": "markdown",
   "metadata": {},
   "source": [
    "Ilustremos con un __ejemplo__:"
   ]
  },
  {
   "cell_type": "code",
   "execution_count": 21,
   "metadata": {
    "collapsed": false
   },
   "outputs": [
    {
     "data": {
      "text/plain": [
       "array([[ 1,  5,  2],\n",
       "       [-1,  0,  1],\n",
       "       [ 3,  5,  4]])"
      ]
     },
     "execution_count": 21,
     "metadata": {},
     "output_type": "execute_result"
    }
   ],
   "source": [
    "# Matriz de coeficientes\n",
    "A = np.array([[1,5,2],[-1,0,1],[3,5,4]])\n",
    "A"
   ]
  },
  {
   "cell_type": "code",
   "execution_count": 22,
   "metadata": {
    "collapsed": false
   },
   "outputs": [
    {
     "data": {
      "text/plain": [
       "array([[ 5],\n",
       "       [ 8],\n",
       "       [15]])"
      ]
     },
     "execution_count": 22,
     "metadata": {},
     "output_type": "execute_result"
    }
   ],
   "source": [
    "# Matriz de términos independientes\n",
    "b = np.array([[5],[8],[15]])\n",
    "b"
   ]
  },
  {
   "cell_type": "code",
   "execution_count": 24,
   "metadata": {
    "collapsed": false
   },
   "outputs": [],
   "source": [
    "L, U, b, x, y = doolittle(A, b)"
   ]
  },
  {
   "cell_type": "code",
   "execution_count": 25,
   "metadata": {
    "collapsed": false
   },
   "outputs": [
    {
     "data": {
      "text/plain": [
       "array([[ 1.,  0.,  0.],\n",
       "       [-1.,  1.,  0.],\n",
       "       [ 3., -2.,  1.]])"
      ]
     },
     "execution_count": 25,
     "metadata": {},
     "output_type": "execute_result"
    }
   ],
   "source": [
    "# Matriz identidad con los multiplicadores de la eliminación gaussiana\n",
    "L"
   ]
  },
  {
   "cell_type": "code",
   "execution_count": 26,
   "metadata": {
    "collapsed": false
   },
   "outputs": [
    {
     "data": {
      "text/plain": [
       "array([[ 1.,  5.,  2.],\n",
       "       [ 0.,  5.,  3.],\n",
       "       [ 0.,  0.,  4.]])"
      ]
     },
     "execution_count": 26,
     "metadata": {},
     "output_type": "execute_result"
    }
   ],
   "source": [
    "# Matriz A escalonada\n",
    "U"
   ]
  },
  {
   "cell_type": "markdown",
   "metadata": {},
   "source": [
    "Comprobamos que la factorización es correcta"
   ]
  },
  {
   "cell_type": "code",
   "execution_count": 27,
   "metadata": {
    "collapsed": false
   },
   "outputs": [
    {
     "data": {
      "text/plain": [
       "array([[ True,  True,  True],\n",
       "       [ True,  True,  True],\n",
       "       [ True,  True,  True]], dtype=bool)"
      ]
     },
     "execution_count": 27,
     "metadata": {},
     "output_type": "execute_result"
    }
   ],
   "source": [
    "np.dot(L, U) == A"
   ]
  },
  {
   "cell_type": "markdown",
   "metadata": {},
   "source": [
    "Entramos en la fase de solución de $Ly=b$ y de $Ux=y$"
   ]
  },
  {
   "cell_type": "markdown",
   "metadata": {},
   "source": [
    "* Sustitución progresiva en $Ly=b$"
   ]
  },
  {
   "cell_type": "code",
   "execution_count": 28,
   "metadata": {
    "collapsed": false
   },
   "outputs": [
    {
     "data": {
      "text/plain": [
       "array([[  5.],\n",
       "       [ 13.],\n",
       "       [ 26.]])"
      ]
     },
     "execution_count": 28,
     "metadata": {},
     "output_type": "execute_result"
    }
   ],
   "source": [
    "y = sustitucion_progresiva(L, b)\n",
    "y"
   ]
  },
  {
   "cell_type": "markdown",
   "metadata": {},
   "source": [
    "* Sustitución regresiva en $Ux=y$"
   ]
  },
  {
   "cell_type": "code",
   "execution_count": 31,
   "metadata": {
    "collapsed": false
   },
   "outputs": [
    {
     "data": {
      "text/plain": [
       "array([[-1.5],\n",
       "       [-1.3],\n",
       "       [ 6.5]])"
      ]
     },
     "execution_count": 31,
     "metadata": {},
     "output_type": "execute_result"
    }
   ],
   "source": [
    "x = sustitucion_regresiva(U, y)\n",
    "x"
   ]
  },
  {
   "cell_type": "markdown",
   "metadata": {},
   "source": [
    "El vector x es la solución buscada"
   ]
  },
  {
   "cell_type": "code",
   "execution_count": 32,
   "metadata": {
    "collapsed": false
   },
   "outputs": [
    {
     "data": {
      "text/plain": [
       "array([[ True],\n",
       "       [ True],\n",
       "       [ True]], dtype=bool)"
      ]
     },
     "execution_count": 32,
     "metadata": {},
     "output_type": "execute_result"
    }
   ],
   "source": [
    "# Comprobación \n",
    "\n",
    "np.dot(np.dot(L,U), x) == b"
   ]
  },
  {
   "cell_type": "markdown",
   "metadata": {},
   "source": [
    "##2.4 Descomposición de Choleski"
   ]
  },
  {
   "cell_type": "code",
   "execution_count": 33,
   "metadata": {
    "collapsed": true
   },
   "outputs": [],
   "source": [
    "def choleski(A):\n",
    "    \"\"\"\n",
    "    Implementación de la Factorización de Choleski (LL^T=A)\n",
    "    \n",
    "    La matriz debe ser:\n",
    "        * Simétrica\n",
    "        * Definida positiva (para evitar números complejos)\n",
    "    \n",
    "    * Toma:\n",
    "    A --> matriz de coeficientes \n",
    "    \n",
    "    * Devuelve:\n",
    "    L --> triangular inferior de la factorización\n",
    "    \n",
    "    Las matrices se introducen bajo la estructura de numpy.array, de esta manera se optimiza el cálculo\n",
    "    vectorizando las operaciones.\n",
    "    \"\"\"\n",
    "    \n",
    "    A = A.astype(float)\n",
    "    \n",
    "    n = A.shape[0] # n es el número de filas de A (ecuaciones)\n",
    "    \n",
    "    # Aprovechamos A en el algoritmo en vez de crear L ya que los terminos no se vuelven a emplear\n",
    "    \n",
    "    # Para cada columna\n",
    "    for j in range(n):\n",
    "        # Si la raiz es un número complejo, lanzamos un error\n",
    "        try:\n",
    "            # En los elementos de la diagonal\n",
    "            A[j,j] = np.sqrt(A[j,j] - np.dot(A[j,0:j],A[j,0:j]))\n",
    "        except ValueError:\n",
    "            error.err(\"La matriz no es definida positiva\")\n",
    "        # En los elementos bajo la diagonal\n",
    "        for i in range(j+1,n):\n",
    "            A[i,j] = (A[i,j] - np.dot(A[i,0:j],A[j,0:j]))/A[j,j]\n",
    "    # En los términos sobre la diagonal\n",
    "    for j in range(1,n):\n",
    "        A[0:j,j] = 0.0\n",
    "   \n",
    "\n",
    "    return A"
   ]
  },
  {
   "cell_type": "code",
   "execution_count": 34,
   "metadata": {
    "collapsed": false
   },
   "outputs": [
    {
     "data": {
      "text/plain": [
       "array([[1, 1, 1],\n",
       "       [1, 2, 2],\n",
       "       [1, 2, 3]])"
      ]
     },
     "execution_count": 34,
     "metadata": {},
     "output_type": "execute_result"
    }
   ],
   "source": [
    "# Matriz de coeficientes\n",
    "A = np.array([[1,1,1],[1,2,2],[1,2,3]])\n",
    "A"
   ]
  },
  {
   "cell_type": "code",
   "execution_count": 35,
   "metadata": {
    "collapsed": false
   },
   "outputs": [
    {
     "data": {
      "text/plain": [
       "array([[ 1.,  0.,  0.],\n",
       "       [ 1.,  1.,  0.],\n",
       "       [ 1.,  1.,  1.]])"
      ]
     },
     "execution_count": 35,
     "metadata": {},
     "output_type": "execute_result"
    }
   ],
   "source": [
    "L = choleski(A)\n",
    "L"
   ]
  },
  {
   "cell_type": "code",
   "execution_count": 36,
   "metadata": {
    "collapsed": false
   },
   "outputs": [
    {
     "data": {
      "text/plain": [
       "array([[ 1.,  1.,  1.],\n",
       "       [ 0.,  1.,  1.],\n",
       "       [ 0.,  0.,  1.]])"
      ]
     },
     "execution_count": 36,
     "metadata": {},
     "output_type": "execute_result"
    }
   ],
   "source": [
    "U = np.transpose(L)\n",
    "U"
   ]
  },
  {
   "cell_type": "code",
   "execution_count": 68,
   "metadata": {
    "collapsed": false
   },
   "outputs": [
    {
     "data": {
      "text/plain": [
       "array([[ True,  True,  True],\n",
       "       [ True,  True,  True],\n",
       "       [ True,  True,  True]], dtype=bool)"
      ]
     },
     "execution_count": 68,
     "metadata": {},
     "output_type": "execute_result"
    }
   ],
   "source": [
    "np.dot(L,U) == A"
   ]
  },
  {
   "cell_type": "markdown",
   "metadata": {},
   "source": [
    "Otro __ejemplo__ de la factorización de Choleski"
   ]
  },
  {
   "cell_type": "code",
   "execution_count": 37,
   "metadata": {
    "collapsed": false
   },
   "outputs": [
    {
     "data": {
      "text/plain": [
       "array([[  1.44,  -0.36,   5.52,   0.  ],\n",
       "       [ -0.36,  10.33,  -7.78,   0.  ],\n",
       "       [  5.52,  -7.78,  28.4 ,   9.  ],\n",
       "       [  0.  ,   0.  ,   9.  ,  61.  ]])"
      ]
     },
     "execution_count": 37,
     "metadata": {},
     "output_type": "execute_result"
    }
   ],
   "source": [
    "# Matriz de coeficientes\n",
    "\n",
    "A = np.array([[1.44,-0.36,5.52,0.00],[-0.36,10.33,-7.78,0.00],[5.52,-7.78,28.40,9.00],[0.00,0.00,9.00,61.00]])\n",
    "A"
   ]
  },
  {
   "cell_type": "code",
   "execution_count": 38,
   "metadata": {
    "collapsed": false
   },
   "outputs": [
    {
     "data": {
      "text/plain": [
       "array([[ 1.2,  0. ,  0. ,  0. ],\n",
       "       [-0.3,  3.2,  0. ,  0. ],\n",
       "       [ 4.6, -2. ,  1.8,  0. ],\n",
       "       [ 0. ,  0. ,  5. ,  6. ]])"
      ]
     },
     "execution_count": 38,
     "metadata": {},
     "output_type": "execute_result"
    }
   ],
   "source": [
    "L = choleski(A)\n",
    "L"
   ]
  },
  {
   "cell_type": "code",
   "execution_count": 39,
   "metadata": {
    "collapsed": false
   },
   "outputs": [
    {
     "data": {
      "text/plain": [
       "array([[ 1.2, -0.3,  4.6,  0. ],\n",
       "       [ 0. ,  3.2, -2. ,  0. ],\n",
       "       [ 0. ,  0. ,  1.8,  5. ],\n",
       "       [ 0. ,  0. ,  0. ,  6. ]])"
      ]
     },
     "execution_count": 39,
     "metadata": {},
     "output_type": "execute_result"
    }
   ],
   "source": [
    "U = np.transpose(L)\n",
    "U"
   ]
  },
  {
   "cell_type": "code",
   "execution_count": 41,
   "metadata": {
    "collapsed": false
   },
   "outputs": [
    {
     "data": {
      "text/plain": [
       "array([[  0.00000000e+00,   0.00000000e+00,   0.00000000e+00,\n",
       "          0.00000000e+00],\n",
       "       [  0.00000000e+00,   1.77635684e-15,   0.00000000e+00,\n",
       "          0.00000000e+00],\n",
       "       [  0.00000000e+00,   0.00000000e+00,   0.00000000e+00,\n",
       "          0.00000000e+00],\n",
       "       [  0.00000000e+00,   0.00000000e+00,   0.00000000e+00,\n",
       "          0.00000000e+00]])"
      ]
     },
     "execution_count": 41,
     "metadata": {},
     "output_type": "execute_result"
    }
   ],
   "source": [
    "np.dot(L,U) - A"
   ]
  },
  {
   "cell_type": "markdown",
   "metadata": {},
   "source": [
    "##2.5 Matrices dispersas"
   ]
  },
  {
   "cell_type": "markdown",
   "metadata": {},
   "source": [
    "El siguiente sistema lo almacenamos utilizacdo tres vectores de la forma"
   ]
  },
  {
   "cell_type": "markdown",
   "metadata": {
    "collapsed": true
   },
   "source": [
    "$$A =\\begin{pmatrix}\n",
    "1 &4  &0  &0 \\\\ \n",
    "3 &4  &1  &0 \\\\ \n",
    "0 &2  &3  &4 \\\\ \n",
    "0 &0  &1  &3 \n",
    "\\end{pmatrix}, b=\\begin{pmatrix}\n",
    "1\\\\ \n",
    "2\\\\ \n",
    "3\\\\ \n",
    "4\n",
    "\\end{pmatrix}$$"
   ]
  },
  {
   "cell_type": "code",
   "execution_count": 43,
   "metadata": {
    "collapsed": false
   },
   "outputs": [],
   "source": [
    "def tridiagonal(c, d, e, b):\n",
    "    \"\"\"\n",
    "    Implementación del algoritmo de Thomas para matrices tridiagonales.\n",
    "    \n",
    "    * Toma:\n",
    "    c --> vector con la subdiagonal \n",
    "    d --> vector de la diagonal\n",
    "    e --> vector de la superdiagonal\n",
    "    b --> términos independientes\n",
    "    \n",
    "    * Devuelve:\n",
    "    L --> triangular inferior de la factorización\n",
    "    U --> triangular superior de la factorización\n",
    "    b --> términos independientes (no los modifica)\n",
    "    x --> solución final LUx=b\n",
    "    y --> solución parcial Ly=b, Ux=y\n",
    "    \n",
    "    Las matrices se introducen bajo la estructura de numpy.array, de esta manera se optimiza el cálculo\n",
    "    vectorizando las operaciones.\n",
    "    \"\"\"\n",
    "    \n",
    "    c = c.astype(float) # Los coeficientes de los vectores pasan a expresarse como float\n",
    "    d = d.astype(float) # Los coeficientes de los vectores pasan a expresarse como float\n",
    "    e = e.astype(float) # Los coeficientes de los vectores pasan a expresarse como float\n",
    "    b = b.astype(float) # Los coeficientes de los vectores pasan a expresarse como float\n",
    "    \n",
    "    n = d.shape[0] # n es el número de filas de A (número de ecuaciones)\n",
    "    \n",
    "    # FACTORIZACIÓN\n",
    "    # En esta fase construimos U, que contiene d y e\n",
    "    # Así como L, compuesta por la identidad más c\n",
    "    \n",
    "    # En cada fila desde la segunda\n",
    "    for i in range(1,n):\n",
    "        mult = c[i-1]/d[i-1]\n",
    "        d[i] = d[i] - mult*e[i-1]\n",
    "        # Almacenamos los multiplicadores en c\n",
    "        c[i-1] = mult\n",
    "        \n",
    "    # RESOLUCIÓN\n",
    "    # Por comodidad construiremos L y U de manera completa para la resolución\n",
    "    # Esto no es un gran inconveniente puesto que el grueso de las operaciones\n",
    "    # ya las hemos realizado usando solo las diagonales\n",
    "    \n",
    "    # L \n",
    "    \n",
    "    L = np.eye(n,n)\n",
    "    \n",
    "    # Para los elementos de la diagonal inferior (i, j) = (1,0), (2,1), (3,2)...\n",
    "    for i in range(1, n):\n",
    "            # Copia el elemento i de c: c[1], c[2]... nunca el 0 del principio\n",
    "            L[i,i-1] = c[i]\n",
    "    \n",
    "    \n",
    "    # U\n",
    "    \n",
    "    U = np.eye(n,n)\n",
    "    \n",
    "    for i in range(n-1):\n",
    "        # Para los elementos de la diagoanl copia d (todos)\n",
    "        U[i,i] = d[i]\n",
    "        # Por encima de la diagonal copia todos los de e menos el último (0)\n",
    "        if (i!=n):\n",
    "            U[i,i+1] = e[i]\n",
    "    \n",
    "    # Ly=b\n",
    "    \n",
    "    y = sustitucion_progresiva(L, b)\n",
    "    \n",
    "    # Ux=y\n",
    "    \n",
    "    x = sustitucion_regresiva(U, y)\n",
    "    \n",
    "    \n",
    "    return L, U, b, x, y"
   ]
  },
  {
   "cell_type": "code",
   "execution_count": 44,
   "metadata": {
    "collapsed": false
   },
   "outputs": [
    {
     "data": {
      "text/plain": [
       "array([0, 3, 2, 1])"
      ]
     },
     "execution_count": 44,
     "metadata": {},
     "output_type": "execute_result"
    }
   ],
   "source": [
    "# Diagonal inferior\n",
    "\n",
    "c = np.array([0,3,2,1])\n",
    "c"
   ]
  },
  {
   "cell_type": "code",
   "execution_count": 45,
   "metadata": {
    "collapsed": false
   },
   "outputs": [
    {
     "data": {
      "text/plain": [
       "array([1, 4, 3, 3])"
      ]
     },
     "execution_count": 45,
     "metadata": {},
     "output_type": "execute_result"
    }
   ],
   "source": [
    "# Diagonal\n",
    "\n",
    "d = np.array([1,4,3,3])\n",
    "d"
   ]
  },
  {
   "cell_type": "code",
   "execution_count": 46,
   "metadata": {
    "collapsed": false
   },
   "outputs": [
    {
     "data": {
      "text/plain": [
       "array([4, 1, 4, 0])"
      ]
     },
     "execution_count": 46,
     "metadata": {},
     "output_type": "execute_result"
    }
   ],
   "source": [
    "# Diagonal superior\n",
    "\n",
    "e = np.array([4,1,4,0])\n",
    "e"
   ]
  },
  {
   "cell_type": "code",
   "execution_count": 47,
   "metadata": {
    "collapsed": false
   },
   "outputs": [
    {
     "data": {
      "text/plain": [
       "array([[1],\n",
       "       [2],\n",
       "       [3],\n",
       "       [4]])"
      ]
     },
     "execution_count": 47,
     "metadata": {},
     "output_type": "execute_result"
    }
   ],
   "source": [
    "# Términos independientes\n",
    "\n",
    "b = np.array([[1],[2],[3],[4]])\n",
    "b"
   ]
  },
  {
   "cell_type": "code",
   "execution_count": 48,
   "metadata": {
    "collapsed": false
   },
   "outputs": [],
   "source": [
    "L, U, b, x, y = tridiagonal(c, d, e, b)"
   ]
  },
  {
   "cell_type": "code",
   "execution_count": 49,
   "metadata": {
    "collapsed": false
   },
   "outputs": [
    {
     "data": {
      "text/plain": [
       "array([[ 1.        ,  0.        ,  0.        ,  0.        ],\n",
       "       [ 0.75      ,  1.        ,  0.        ,  0.        ],\n",
       "       [ 0.        ,  0.88888889,  1.        ,  0.        ],\n",
       "       [ 0.        ,  0.        ,  1.        ,  1.        ]])"
      ]
     },
     "execution_count": 49,
     "metadata": {},
     "output_type": "execute_result"
    }
   ],
   "source": [
    "# L\n",
    "L"
   ]
  },
  {
   "cell_type": "code",
   "execution_count": 50,
   "metadata": {
    "collapsed": false
   },
   "outputs": [
    {
     "data": {
      "text/plain": [
       "array([[ 1.  ,  4.  ,  0.  ,  0.  ],\n",
       "       [ 0.  ,  4.  ,  1.  ,  0.  ],\n",
       "       [ 0.  ,  0.  ,  2.25,  4.  ],\n",
       "       [ 0.  ,  0.  ,  0.  ,  1.  ]])"
      ]
     },
     "execution_count": 50,
     "metadata": {},
     "output_type": "execute_result"
    }
   ],
   "source": [
    "# U\n",
    "U"
   ]
  },
  {
   "cell_type": "code",
   "execution_count": 51,
   "metadata": {
    "collapsed": false
   },
   "outputs": [
    {
     "data": {
      "text/plain": [
       "array([[-3.16358025],\n",
       "       [ 1.04089506],\n",
       "       [-2.91358025],\n",
       "       [ 2.11111111]])"
      ]
     },
     "execution_count": 51,
     "metadata": {},
     "output_type": "execute_result"
    }
   ],
   "source": [
    "# x\n",
    "x"
   ]
  },
  {
   "cell_type": "markdown",
   "metadata": {},
   "source": [
    "Pordemos comprobar el resultado obtenido"
   ]
  },
  {
   "cell_type": "code",
   "execution_count": 53,
   "metadata": {
    "collapsed": false
   },
   "outputs": [
    {
     "data": {
      "text/plain": [
       "array([[  0.00000000e+00],\n",
       "       [  4.44089210e-16],\n",
       "       [  0.00000000e+00],\n",
       "       [  0.00000000e+00]])"
      ]
     },
     "execution_count": 53,
     "metadata": {},
     "output_type": "execute_result"
    }
   ],
   "source": [
    "# Comprobación\n",
    "\n",
    "np.dot(np.dot(L, U), x) - b"
   ]
  },
  {
   "cell_type": "code",
   "execution_count": null,
   "metadata": {
    "collapsed": true
   },
   "outputs": [],
   "source": []
  }
 ],
 "metadata": {
  "kernelspec": {
   "display_name": "Python 2",
   "language": "python",
   "name": "python2"
  },
  "language_info": {
   "codemirror_mode": {
    "name": "ipython",
    "version": 2
   },
   "file_extension": ".py",
   "mimetype": "text/x-python",
   "name": "python",
   "nbconvert_exporter": "python",
   "pygments_lexer": "ipython2",
   "version": "2.7.9"
  }
 },
 "nbformat": 4,
 "nbformat_minor": 0
}
